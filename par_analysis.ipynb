{
 "cells": [
  {
   "cell_type": "code",
   "execution_count": 1,
   "id": "6b2460e2",
   "metadata": {},
   "outputs": [],
   "source": [
    "import  numpy as np\n",
    "import os\n",
    "import csv\n",
    "\n",
    "def get_pars(par_file):\n",
    "    indexes = np.genfromtxt(\"/home/maria/Documents/projects/Stripe82/golden_sample_for_edition.txt\")\n",
    "    L0_list = []\n",
    "    z0_list = []\n",
    "    h_list = []\n",
    "    \n",
    " \n",
    "    #-------------1d-decomposition--------------\n",
    "    if par_file == \"config.imfit\":\n",
    "        for i in indexes:\n",
    "            i = int(i)\n",
    "\n",
    "            os.chdir(f\"/home/maria/Documents/projects/Stripe82/decomposer_/imfit_run_{i}\")\n",
    "            with open(par_file) as f:\n",
    "                pars = f.readlines()\n",
    "            pars_splited = []\n",
    "\n",
    "            if (len(pars)) == 8:\n",
    "                for line in pars:\n",
    "                    line = line.split()\n",
    "                    pars_splited.append(line)\n",
    "                L0_list.append(float(pars_splited[4][1]))\n",
    "                h_list.append(float(pars_splited[5][1]))\n",
    "                z0_list.append(float(pars_splited[7][1]))\n",
    "\n",
    "            if (len(pars)) == 16:\n",
    "                for line in pars:\n",
    "                    line = line.split()\n",
    "                    pars_splited.append(line)\n",
    "                L0_list.append(float(pars_splited[12][1]))\n",
    "                h_list.append(float(pars_splited[13][1]))\n",
    "                z0_list.append(float(pars_splited[15][1]))\n",
    "\n",
    "            \n",
    "\n",
    "    #-------------2d-decomposition--------------\n",
    "    if par_file == \"bestfit_parameters_imfit.dat\":\n",
    "        for i in indexes:\n",
    "            i = int(i)\n",
    "\n",
    "            os.chdir(f\"/home/maria/Documents/projects/Stripe82/decomposer_/imfit_run_{i}\")\n",
    "            with open(par_file) as f:\n",
    "                pars = f.readlines()\n",
    "            pars_splited = []\n",
    "            disk_parameters = []\n",
    "            if (len(pars)) == 29:\n",
    "                for line in pars:\n",
    "                    line = line.split()\n",
    "                    pars_splited.append(line)\n",
    "                L0_list.append(float(pars_splited[25][1]))\n",
    "                h_list.append(float(pars_splited[26][1]))\n",
    "                z0_list.append(float(pars_splited[28][1]))\n",
    "\n",
    "            if (len(pars)) == 20:\n",
    "                for line in pars:\n",
    "                    line = line.split()\n",
    "                    pars_splited.append(line)\n",
    "                L0_list.append(float(pars_splited[16][1]))\n",
    "                h_list.append(float(pars_splited[17][1]))\n",
    "                z0_list.append(float(pars_splited[19][1]))\n",
    "                \n",
    "    #-----------SDSS-and-some-calulated-parameters-----------      \n",
    "\n",
    "    ModelMag_g = []\n",
    "    ModelMag_r = []\n",
    "    z_spec = []\n",
    "    K_correction = []\n",
    "    scale_kpc_arcsec = []\n",
    "    lum_distance = []\n",
    "    abs_mag_sdss = []\n",
    "    extinction = []\n",
    "\n",
    "    \n",
    "    with open('/home/maria/Documents/projects/Stripe82/sdss_pars.csv', \"r\", newline=\"\") as f:\n",
    "        reader = csv.reader(f, delimiter=' ')\n",
    "        for row in reader:\n",
    "            K_correction.append(float(row[9])) \n",
    "            ModelMag_g.append(float(row[6]))\n",
    "            ModelMag_r.append(float(row[7])) \n",
    "            z_spec.append(float(row[3]))\n",
    "            extinction.append(float(row[5]))\n",
    "            scale_kpc_arcsec.append(float(row[10])) \n",
    "            lum_distance.append(float(row[11]))\n",
    "            abs_mag_sdss.append(float(row[8]))\n",
    "\n",
    "\n",
    "    return(L0_list, h_list, z0_list, ModelMag_g, ModelMag_r, z_spec, K_correction, scale_kpc_arcsec, lum_distance, abs_mag_sdss, extinction)"
   ]
  },
  {
   "cell_type": "code",
   "execution_count": 2,
   "id": "d4993b62",
   "metadata": {},
   "outputs": [],
   "source": [
    "\n",
    "#----------get-model-magnutides----------\n",
    "indexes = np.genfromtxt(\"/home/maria/Documents/projects/Stripe82/golden_sample_for_edition.txt\")\n",
    "mag_1d = []\n",
    "mag_2d = []\n",
    "\n",
    "for i in indexes:\n",
    "    i = int(i)\n",
    "    os.chdir(f\"/home/maria/Documents/projects/Stripe82/decomposer_/imfit_run_{i}\")\n",
    "    with open(\"mag1d.txt\") as f:\n",
    "        mags = f.readlines()\n",
    "    mags_splited_1d = []\n",
    "    for line in mags:\n",
    "        line = line.split()\n",
    "        mags_splited_1d.append(line)\n",
    "\n",
    "    with open(\"mag2d.txt\") as f:\n",
    "        mags = f.readlines()\n",
    "    mags_splited_2d = []\n",
    "    for line in mags:\n",
    "        line = line.split()\n",
    "        mags_splited_2d.append(line)\n",
    "\n",
    "    if (len(mags_splited_1d)) == 8:  \n",
    "        mag_1d.append(float(mags_splited_1d[7][2]))\n",
    "        mag_2d.append(float(mags_splited_2d[7][2]))\n",
    "    else:\n",
    "        mag_1d.append(float(mags_splited_1d[8][2]))\n",
    "        mag_2d.append(float(mags_splited_2d[8][2]))\n"
   ]
  },
  {
   "cell_type": "code",
   "execution_count": 3,
   "id": "21a62424",
   "metadata": {
    "scrolled": true
   },
   "outputs": [
    {
     "name": "stdout",
     "output_type": "stream",
     "text": [
      "5.719 \n",
      "5.040 \n",
      "5.648 \n",
      "4.321 \n",
      "7.329 \n",
      "4.523 \n",
      "3.992 \n",
      "3.650 \n",
      "3.651 \n",
      "4.001 \n",
      "4.435 \n",
      "3.947 \n",
      "8.729 \n",
      "5.304 \n",
      "3.169 \n",
      "5.780 \n",
      "2.503 \n",
      "4.464 \n",
      "3.087 \n",
      "5.384 \n",
      "2.999 \n",
      "4.741 \n",
      "3.660 \n",
      "5.839 \n",
      "4.086 \n",
      "5.172 \n",
      "4.396 \n",
      "9.776 \n",
      "3.844 \n",
      "3.643 \n",
      "6.925 \n",
      "6.295 \n",
      "11.934 \n",
      "6.355 \n",
      "5.567 \n",
      "8.467 \n",
      "8.876 \n",
      "4.098 \n",
      "5.721 \n",
      "3.677 \n",
      "2.670 \n",
      "2.202 \n",
      "3.421 \n",
      "3.134 \n",
      "3.755 \n",
      "1.907 \n",
      "4.705 \n",
      "3.540 \n",
      "6.266 \n",
      "2.366 \n",
      "4.739 \n"
     ]
    }
   ],
   "source": [
    "par_file_1d = \"config.imfit\"\n",
    "par_file_2d = \"bestfit_parameters_imfit.dat\"\n",
    "#--------parameters_1d_decomp--------\n",
    "L_0, h_r, z_0, ModelMag_g, ModelMag_r, z_spec, K_correction, scale_kpc_arcsec, lum_distance, abs_mag_sdss, extinction =  get_pars(par_file_1d)\n",
    "h_z = np.zeros(len(z_0))\n",
    "\n",
    "\n",
    "for i in range(len(z_0)):\n",
    "    h_z[i] = z_0[i]/2\n",
    "    \n",
    "image_scale = 0.396\n",
    "for i in range (len(z_0)):\n",
    "    z_0[i] = z_0[i]*image_scale\n",
    "    h_z[i] = h_z[i]*image_scale\n",
    "    h_r[i] = h_r[i]*image_scale\n",
    "    \n",
    "# print(\">>>>>>> L0\", L_0 )\n",
    "# print(\">>>>>>> h\", h_r )\n",
    "# print(\">>>>>>> z0\", z_0 )\n",
    "#--------parameters_2d_decomp---------  \n",
    "L_0_2d, h_r_2d, z_0_2d, ModelMag_g, ModelMag_r, z_spec, K_correction, scale_kpc_arcsec, lum_distance, abs_mag_sdss, extinction = get_pars(par_file_2d)\n",
    "h_z_2d =  np.zeros(len(z_0_2d))\n",
    "\n",
    "for i  in range(len(z_0_2d)):\n",
    "    h_z_2d[i] = z_0_2d[i]/2\n",
    "    \n",
    "image_scale = 0.396\n",
    "for i in range (len(z_0_2d)):\n",
    "    z_0_2d[i] = z_0_2d[i]*image_scale\n",
    "    h_z_2d[i] = h_z_2d[i]*image_scale\n",
    "    h_r_2d[i] = h_r_2d[i]*image_scale\n",
    "\n",
    "#print(\">>>>>>> \", lum_distance)\n",
    "# print(\">>>>>>> h_2d\", h_r_2d )\n",
    "# print(\">>>>>>> z0_2d\", z_0_2d )\n",
    "    \n",
    "initial_params = np.genfromtxt(\"/home/maria/Documents/projects/Stripe82/super_final_sample1.txt\")\n",
    "sma, smb = initial_params[:,3], initial_params[:,4]\n",
    "\n",
    "for i in range(len(mag_1d)):\n",
    "    print(\"%.3f \" % (h_r_2d[i]))\n",
    "\n"
   ]
  },
  {
   "cell_type": "code",
   "execution_count": null,
   "id": "f8fd6af8",
   "metadata": {},
   "outputs": [],
   "source": []
  },
  {
   "cell_type": "code",
   "execution_count": 4,
   "id": "9fbbc4da",
   "metadata": {},
   "outputs": [],
   "source": [
    "from scipy.stats import sem\n",
    "#-------convert-h-and-z0-from-arcsec-to-kpc-------\n",
    "\n",
    "h_1d_kpc = np.zeros(len(h_r))\n",
    "z_0_1d_kpc = np.zeros(len(z_0))\n",
    "h_z_1d_kpc = np.zeros(len(h_z))\n",
    "\n",
    "h_2d_kpc = np.zeros(len(h_r_2d))\n",
    "z_0_2d_kpc = np.zeros(len(z_0_2d))\n",
    "h_z_2d_kpc = np.zeros(len(h_z_2d))\n",
    "for i in range(len(h_r)):\n",
    "    h_1d_kpc[i] = scale_kpc_arcsec[i]*h_r[i]\n",
    "    z_0_1d_kpc[i] = scale_kpc_arcsec[i]*z_0[i]\n",
    "    h_z_1d_kpc[i] = scale_kpc_arcsec[i]*h_z[i]\n",
    "    \n",
    "    h_2d_kpc[i] = scale_kpc_arcsec[i]*h_r_2d[i]\n",
    "    z_0_2d_kpc[i] = scale_kpc_arcsec[i]*z_0_2d[i]\n",
    "    h_z_2d_kpc[i] = scale_kpc_arcsec[i]*h_z_2d[i]\n",
    "\n",
    "# for i in range(len(h_2d_kpc)):\n",
    "#     print(i, h_2d_kpc[i])\n",
    "#     print(z_0_2d_kpc[i])\n",
    "\n"
   ]
  },
  {
   "cell_type": "code",
   "execution_count": 10,
   "id": "1c04e622",
   "metadata": {},
   "outputs": [
    {
     "name": "stdout",
     "output_type": "stream",
     "text": [
      "0.06384445901960785\n",
      "0.00410376694377782\n"
     ]
    },
    {
     "data": {
      "image/png": "[encoded data removed]",
      "text/plain": [
       "<Figure size 432x288 with 1 Axes>"
      ]
     },
     "metadata": {
      "needs_background": "light"
     },
     "output_type": "display_data"
    }
   ],
   "source": [
    "#---------redshift-distribution----------\n",
    "import matplotlib.pyplot as plt\n",
    "import matplotlib as mpl\n",
    "from cycler import cycler\n",
    "from matplotlib.ticker import MaxNLocator\n",
    "from scipy.stats import sem\n",
    "plt.rcParams['text.usetex'] = False\n",
    "    \n",
    "fig, ax = plt.subplots()\n",
    "kwargs = dict(alpha=0.5, bins=8)\n",
    "\n",
    "n, bins, patches = ax.hist(z_spec[2:], **kwargs, color='indigo',edgecolor='indigo', label = 'z spectral')\n",
    "ax.legend(loc='upper right')\n",
    "ax.set_xlabel('$z_{spec}$', size = 25)\n",
    "ax.set_ylabel('N', size = 25)\n",
    "ax.yaxis.set_major_locator(MaxNLocator(integer=True))\n",
    "\n",
    "plt.xticks(size = 18)\n",
    "plt.yticks(size = 18)\n",
    "plt.legend(loc=0, prop={'size': 15})\n",
    "plt.show\n",
    "\n",
    "\n",
    "print(np.mean(z_spec))\n",
    "print(sem(z_spec))\n"
   ]
  },
  {
   "cell_type": "code",
   "execution_count": 38,
   "id": "db499e92",
   "metadata": {},
   "outputs": [
    {
     "name": "stdout",
     "output_type": "stream",
     "text": [
      "5.407576023338822\n",
      "0.32649132530519054\n",
      "-----\n",
      "0.649112975784706\n",
      "0.04174595225042994\n"
     ]
    },
    {
     "data": {
      "image/png": "[encoded data removed]",
      "text/plain": [
       "<Figure size 432x288 with 1 Axes>"
      ]
     },
     "metadata": {
      "needs_background": "light"
     },
     "output_type": "display_data"
    },
    {
     "data": {
      "image/png": "[encoded data removed]",
      "text/plain": [
       "<Figure size 432x288 with 1 Axes>"
      ]
     },
     "metadata": {
      "needs_background": "light"
     },
     "output_type": "display_data"
    }
   ],
   "source": [
    "import matplotlib.pyplot as plt\n",
    "import matplotlib as mpl\n",
    "from cycler import cycler\n",
    "from matplotlib.ticker import MaxNLocator\n",
    "from scipy.stats import sem\n",
    "plt.rcParams['text.usetex'] = False\n",
    "    \n",
    "fig, ax = plt.subplots()\n",
    "kwargs = dict(alpha=0.5, bins=20)\n",
    "\n",
    "\n",
    "n, bins, patches = ax.hist(h_2d_kpc, **kwargs, color='indigo',edgecolor='indigo', label = \"2-dim decomposition\")\n",
    "#n, bins, patches = ax.hist(h_r_2d, bins = 8, alpha = 0.5, color='chocolate',edgecolor='chocolate', label = \"2-dim decomposition\")\n",
    "ax.legend(loc='upper right')\n",
    "ax.set_xlabel('$h$(kpc)', size = 25)\n",
    "ax.set_ylabel('N', size = 25)\n",
    "ax.yaxis.set_major_locator(MaxNLocator(integer=True))\n",
    "\n",
    "plt.xticks(size = 15)\n",
    "plt.yticks(size = 15)\n",
    "plt.show\n",
    "\n",
    "fig, ax = plt.subplots()\n",
    "kwargs = dict(alpha=0.5, bins=20)\n",
    "\n",
    "n, bins, patches = ax.hist(h_z_2d_kpc, **kwargs, color='indigo',edgecolor='indigo', label = \"2-dim decomposition\")\n",
    "#n, bins, patches = ax.hist(z_0_2d, bins = 6, alpha = 0.5, color='chocolate',edgecolor='chocolate', label = \"2-dim decomposition\")\n",
    "ax.legend(loc='upper right')\n",
    "ax.set_xlabel('$h_z$(kpc)', size = 25)\n",
    "ax.set_ylabel('N', size = 25)\n",
    "ax.yaxis.set_major_locator(MaxNLocator(integer=True))\n",
    "\n",
    "plt.xticks(size = 15)\n",
    "plt.yticks(size = 15)\n",
    "plt.show\n",
    "\n",
    "\n",
    "\n",
    "\n",
    "print(np.mean(h_2d_kpc))\n",
    "print(sem(h_2d_kpc))\n",
    "print(\"-----\")\n",
    "\n",
    "print(np.mean(h_z_2d_kpc))\n",
    "print(sem(h_z_2d_kpc))"
   ]
  },
  {
   "cell_type": "code",
   "execution_count": 10,
   "id": "bc1fef15",
   "metadata": {},
   "outputs": [
    {
     "name": "stdout",
     "output_type": "stream",
     "text": [
      "Estimated coefficients:\n",
      "b_0 = 0.1301673638161615            \n",
      "b_1 = 0.09792977405155472\n",
      "(0.6084397576111772, 3.5208719409174107e-06)\n"
     ]
    },
    {
     "data": {
      "image/png": "[encoded data removed]",
      "text/plain": [
       "<Figure size 432x288 with 1 Axes>"
      ]
     },
     "metadata": {
      "needs_background": "light"
     },
     "output_type": "display_data"
    }
   ],
   "source": [
    "# plt.rcParams['text.usetex'] = False\n",
    "# plt.scatter(h_r_2d,z_0_2d,color=\"indigo\")\n",
    "# plt.xlabel(\"h_r\", size = 25)\n",
    "# plt.ylabel(\"z_0\", size = 25)\n",
    "\n",
    "# linear_model=np.polyfit(h_1d_kpc,h_z_1d_kpc,1)\n",
    "# linear_model_fn=np.poly1d(linear_model)\n",
    "# x_s=np.arange(0,15)\n",
    "# plt.xticks(size = 15)\n",
    "# plt.yticks(size = 15)\n",
    "# plt.plot(x_s,linear_model_fn(x_s),color=\"orange\")\n",
    "# print(linear_model)\n",
    "\n",
    "# plt.show()\n",
    "# print(np.mean(np.divide(h_r_2d, z_0_2d)))\n",
    "# print(sem(np.divide(h_r_2d, z_0_2d)))\n",
    "\n",
    "import numpy as np\n",
    "import matplotlib.pyplot as plt\n",
    "from scipy.stats import pearsonr\n",
    "  \n",
    "def estimate_coef(x, y):\n",
    "    # number of observations/points\n",
    "    n = np.size(x)\n",
    "  \n",
    "    # mean of x and y vector\n",
    "    m_x = np.mean(x)\n",
    "    m_y = np.mean(y)\n",
    "  \n",
    "    # calculating cross-deviation and deviation about x\n",
    "    SS_xy = np.sum(y*x) - n*m_y*m_x\n",
    "    SS_xx = np.sum(x*x) - n*m_x*m_x\n",
    "  \n",
    "    # calculating regression coefficients\n",
    "    b_1 = SS_xy / SS_xx\n",
    "    b_0 = m_y - b_1*m_x\n",
    "  \n",
    "    return (b_0, b_1)\n",
    "  \n",
    "def plot_regression_line(x, y, b, xlabel, ylabel, invert_xaxis, invert_yaxis):\n",
    "    # plotting the actual points as scatter plot\n",
    "    plt.scatter(x, y, color = \"indigo\",\n",
    "               marker = \"o\", s = 30)\n",
    "  \n",
    "    # predicted response vector\n",
    "    y_pred = b[0] + b[1]*x\n",
    "  \n",
    "    # plotting the regression line\n",
    "    plt.plot(x, y_pred, color = \"chocolate\")\n",
    "  \n",
    "    # putting labels\n",
    "    plt.xlabel(xlabel, size = 20)\n",
    "    plt.ylabel(ylabel, size = 20)\n",
    "    plt.xticks(size = 14)\n",
    "    plt.yticks(size = 14)\n",
    "    if invert_xaxis == True:\n",
    "        plt.xlim(max(x), min(x))\n",
    "    if invert_yaxis == True:\n",
    "        plt.ylim(max(y), min(y))\n",
    "    plt.ylim(ymin=0)\n",
    "    plt.xlim(xmin=0)\n",
    "#    plt.text(0.001, 0.5, \"r = %.3f, p-value = 0.686\" %  (pearsonr(x,y)[0]), size = 14)\n",
    "  \n",
    "    # function to show plot\n",
    "    plt.show()\n",
    "  \n",
    "def main(x,y, xlabel, ylabel, invert_xaxis = False, invert_yaxis = False):\n",
    "    # observations / data\n",
    "    # estimating coefficients\n",
    "    b = estimate_coef(x, y)\n",
    "    print(\"Estimated coefficients:\\nb_0 = {}  \\\n",
    "          \\nb_1 = {}\".format(b[0], b[1]))\n",
    "    print(pearsonr(x,y))\n",
    "  \n",
    "    # plotting regression line\n",
    "    plot_regression_line(x, y, b, xlabel, ylabel, invert_xaxis, invert_yaxis)\n",
    "\n",
    "  \n",
    "main(np.array(h_2d_kpc[2:]), np.array(h_z_2d_kpc[2:]), \"$h(kpc)$\", \"$z_0(kpc)$\")"
   ]
  },
  {
   "cell_type": "code",
   "execution_count": 8,
   "id": "ab6fb8b0",
   "metadata": {},
   "outputs": [
    {
     "name": "stdout",
     "output_type": "stream",
     "text": [
      "-20.529222616358798\n",
      "0.1328393773587935\n"
     ]
    },
    {
     "data": {
      "image/png": "[encoded data removed]",
      "text/plain": [
       "<Figure size 432x288 with 1 Axes>"
      ]
     },
     "metadata": {
      "needs_background": "light"
     },
     "output_type": "display_data"
    }
   ],
   "source": [
    "#-----absolute-magnitude-distribution-----\n",
    "import math\n",
    "from scipy.stats import norm\n",
    "import matplotlib.mlab as mlab\n",
    "M_abs = []\n",
    "M_abs_sdss = []\n",
    "M_difference = []\n",
    "plt.rcParams['text.usetex'] = False\n",
    "\n",
    "for i in range(len(mag_2d)):\n",
    "    M_abs.append(mag_2d[i]-5*math.log10(lum_distance[i])-25-extinction[i]-K_correction[i])\n",
    "    M_abs_sdss.append(ModelMag_r[i]-5*math.log10(lum_distance[i])-25-extinction[i]-K_correction[i])\n",
    "    M_difference.append(M_abs[i]-M_abs_sdss[i])\n",
    "fig, ax = plt.subplots()\n",
    "kwargs = dict(alpha=0.5, bins=10)\n",
    "n, bins, patches = ax.hist(M_abs, **kwargs, color='indigo',edgecolor='indigo', label = 'Absolute magnitude')\n",
    "ax.legend(loc='upper right')\n",
    "ax.set_xlabel('$M_{abs}$', size = 30)\n",
    "ax.set_ylabel('N', size = 20)\n",
    "ax.yaxis.set_major_locator(MaxNLocator(integer=True))\n",
    "ax.invert_xaxis()\n",
    "\n",
    "\n",
    "plt.xticks(size = 14)\n",
    "plt.yticks(size = 14)\n",
    "plt.show\n",
    "\n",
    "\n",
    "print(np.mean(M_abs))\n",
    "print(sem(M_abs))\n"
   ]
  },
  {
   "cell_type": "code",
   "execution_count": 9,
   "id": "11318577",
   "metadata": {},
   "outputs": [
    {
     "name": "stdout",
     "output_type": "stream",
     "text": [
      "51 51\n",
      "Estimated coefficients:\n",
      "b_0 = 0.1758306519848845            \n",
      "b_1 = -0.015781292558390076\n",
      "(-0.05789960678643897, 0.6865260391534013)\n"
     ]
    },
    {
     "data": {
      "image/png": "[encoded data removed]",
      "text/plain": [
       "<Figure size 432x288 with 1 Axes>"
      ]
     },
     "metadata": {
      "needs_background": "light"
     },
     "output_type": "display_data"
    }
   ],
   "source": [
    "#--------dot-plot---------\n",
    "mag_2d = np.array(mag_2d)\n",
    "ModelMag_r = np.array(ModelMag_r)\n",
    "m_difference = []\n",
    "print(len(mag_2d), len(ModelMag_r))\n",
    "for i in range(len(mag_2d)):\n",
    "    m_difference.append(mag_2d[i]-ModelMag_r[i])\n",
    "m_difference = np.array(m_difference)\n",
    "M_abs = np.array(M_abs)\n",
    "M_abs_sdss = np.array(M_abs_sdss)\n",
    "M_difference = np.array(M_difference)\n",
    "main(ModelMag_r, m_difference, \"$m_r(SDSS)$\", \"$m_r(model)-m_r(SDSS)$\", invert_xaxis = True)\n",
    "#main(M_abs_sdss, M_difference, \"$M_r(SDSS)$\", \"$M_r(model)-M_r(SDSS)$\", invert_xaxis = True)"
   ]
  },
  {
   "cell_type": "code",
   "execution_count": 40,
   "id": "3f32211f",
   "metadata": {},
   "outputs": [
    {
     "name": "stdout",
     "output_type": "stream",
     "text": [
      "788 43\n",
      "0.4121190707070263\n",
      "0.026118142882985654\n",
      "0.32478363112039443\n",
      "0.003775505674529097\n"
     ]
    },
    {
     "data": {
      "image/png": "[encoded data removed]",
      "text/plain": [
       "<Figure size 432x288 with 1 Axes>"
      ]
     },
     "metadata": {
      "needs_background": "light"
     },
     "output_type": "display_data"
    }
   ],
   "source": [
    "### tidal structures\n",
    "from numpy import mean\n",
    "\n",
    "initial_params = np.genfromtxt(\"/home/maria/Documents/projects/Stripe82/super_final_sample1.txt\")\n",
    "sma, smb = initial_params[:,3], initial_params[:,4];\n",
    "\n",
    "tidal_indexes = [28, 38, 41, 43, 52, 85, 88, 104, 126, \n",
    "                 165, 175, 181, 189, 202, 222, 235, 247, \n",
    "                 262, 270, 287, 307, 309, 329, 338, 349, 354,\n",
    "                 424, 426, 471, 526, 533, 552, 602, 621, 627,\n",
    "                 681, 685, 712, 730, 743, 777, 792, 800]\n",
    "sma_tidal = []\n",
    "smb_tidal = []   \n",
    "sma_not_tidal = []\n",
    "smb_not_tidal = []\n",
    "\n",
    "ellipticity_tidal = []\n",
    "ellipticity_not_tidal = []\n",
    "\n",
    "for i in range(len(sma)):\n",
    "    if i in tidal_indexes:\n",
    "        sma_tidal.append(sma[i])\n",
    "        smb_tidal.append(smb[i])\n",
    "        ellipticity_tidal.append(smb[i]/sma[i])\n",
    "    else:\n",
    "        sma_not_tidal.append(sma[i])\n",
    "        smb_not_tidal.append(smb[i])\n",
    "        ellipticity_not_tidal.append(smb[i]/sma[i])\n",
    "        \n",
    "ellipticity_tidal_mean = mean(ellipticity_tidal)\n",
    "ellipticity_not_tidal_mean = mean(ellipticity_not_tidal)\n",
    "\n",
    "fig, ax = plt.subplots()\n",
    "kwargs = dict(alpha=0.5, bins=8)\n",
    "print(len(ellipticity_not_tidal), len(ellipticity_tidal))\n",
    "n, bins, patches = ax.hist(ellipticity_tidal, **kwargs, color='indigo', edgecolor='indigo', label = \"with tidal structures\", density = True)\n",
    "n, bins, patches = ax.hist(ellipticity_not_tidal, bins = 6, alpha = 0.5, color='chocolate',edgecolor='chocolate', label = \"no tidal structures\", density = True)\n",
    "ax.legend(loc='upper right')\n",
    "ax.set_xlabel('b/a', size = 25)\n",
    "ax.set_ylabel('N normalized', size = 25)\n",
    "ax.yaxis.set_major_locator(MaxNLocator(integer=True))\n",
    "\n",
    "plt.xticks(size = 15)\n",
    "plt.yticks(size = 15)\n",
    "plt.show\n",
    "# import plotly.graph_objects as go\n",
    "# fig = go.Figure()\n",
    "\n",
    "# px.histogram(ellipticity_tidal,nbins=10,range_x=[0,1],histnorm='probability')\n",
    "# px.histogram(ellipticity_not_tidal,nbins=10,range_x=[0,1],histnorm='probability') \n",
    "\n",
    "print(np.mean(ellipticity_tidal))\n",
    "print(sem(ellipticity_tidal))\n",
    "print(np.mean(ellipticity_not_tidal))\n",
    "print(sem(ellipticity_not_tidal))        \n",
    "\n"
   ]
  },
  {
   "cell_type": "code",
   "execution_count": 39,
   "id": "709e9a3b",
   "metadata": {},
   "outputs": [
    {
     "name": "stdout",
     "output_type": "stream",
     "text": [
      "7.039020283823316\n",
      "0.5213517542323539\n",
      "------------\n",
      "9.119051066223115\n",
      "0.48302615781538405\n"
     ]
    },
    {
     "data": {
      "image/png": "[encoded data removed]",
      "text/plain": [
       "<Figure size 432x288 with 1 Axes>"
      ]
     },
     "metadata": {
      "needs_background": "light"
     },
     "output_type": "display_data"
    }
   ],
   "source": [
    "# распределение по h/z_0\n",
    "from numpy import mean\n",
    "plt.rcParams['text.usetex'] = False\n",
    "\n",
    "fig, ax = plt.subplots()\n",
    "kwargs = dict(alpha=0.5, bins=12)\n",
    "\n",
    "#n, bins, patches = ax.hist(np.divide(h_1d_kpc,h_z_1d_kpc), **kwargs, color='indigo',edgecolor='indigo', label = \"1d_decomp\")\n",
    "n, bins, patches = ax.hist(np.divide(h_2d_kpc,h_z_2d_kpc), bins = 8, alpha = 0.5, color='indigo',edgecolor='indigo', label = \"2d_decomp\")\n",
    "ax.set_xlabel('$h/h_z$', size = 25)\n",
    "ax.set_ylabel('N', size = 25)\n",
    "ax.yaxis.set_major_locator(MaxNLocator(integer=True))\n",
    "plt.legend(loc='upper right')\n",
    "plt.xticks(size = 15)\n",
    "plt.yticks(size = 15)\n",
    "plt.show\n",
    " \n",
    "print(np.mean(np.divide(h_1d_kpc,z_0_1d_kpc)))\n",
    "print(sem(np.divide(h_1d_kpc,z_0_1d_kpc)))\n",
    "\n",
    "print(\"------------\")\n",
    "\n",
    "print(np.mean(np.divide(h_2d_kpc,h_z_2d_kpc)))\n",
    "print(sem(np.divide(h_2d_kpc,h_z_2d_kpc)))\n",
    "\n",
    "        \n",
    "\n"
   ]
  },
  {
   "cell_type": "code",
   "execution_count": 18,
   "id": "99cf53d1",
   "metadata": {},
   "outputs": [
    {
     "name": "stdout",
     "output_type": "stream",
     "text": [
      "sma all 839\n",
      "sma after 395\n",
      "mean 0.47401268640572447\n",
      "percentage 47.07985697258641\n"
     ]
    }
   ],
   "source": [
    "import numpy as np\n",
    "from numpy import mean\n",
    "# h_lim = 1\n",
    "VV_m = []\n",
    "initial_params = np.genfromtxt('/home/maria/Documents/projects/Stripe82/super_final_sample_no_duplicates_sorted.txt')\n",
    "sma, smb = initial_params[:,3], initial_params[:,4]\n",
    "# h_r_2d = np.array(h_r_2d)\n",
    "# print(np.max(h_r_2d))\n",
    "# h_lim = h_r_2d[(h_r_2d >= 4.5)]\n",
    "# for i in range(len(h_lim)):\n",
    "#     VV_m.append(np.min(h_lim)**3/h_lim[i]**3)\n",
    "# print(mean(VV_m))\n",
    "sma_all = len(sma)\n",
    "print(\"sma all\", sma_all)\n",
    "sma = sma[(sma >= 17)]\n",
    "sma_after = len(sma)\n",
    "print(\"sma after\", sma_after)\n",
    "for i in range(len(sma)):\n",
    "    VV_m.append(np.min(sma)**3/sma[i]**3)\n",
    "print(\"mean\", mean(VV_m))\n",
    "\n",
    "print(\"percentage\",sma_after/sma_all*100)"
   ]
  },
  {
   "cell_type": "code",
   "execution_count": 13,
   "id": "0c3afb31",
   "metadata": {},
   "outputs": [
    {
     "name": "stdout",
     "output_type": "stream",
     "text": [
      "Estimated coefficients:\n",
      "b_0 = -1.0304916267888506            \n",
      "b_1 = 0.31716232703526304\n",
      "(0.5689577976290835, 1.3226565883833567e-05)\n"
     ]
    },
    {
     "data": {
      "image/png": "[encoded data removed]",
      "text/plain": [
       "<Figure size 432x288 with 1 Axes>"
      ]
     },
     "metadata": {
      "needs_background": "light"
     },
     "output_type": "display_data"
    }
   ],
   "source": [
    "h_r = np.array(h_r)\n",
    "h_r_2d = np.array(h_r_2d)\n",
    "main(h_2d_kpc, h_2d_kpc-h_1d_kpc, \"$h\\_{2d}$ (kpc)\", \"$h_{2d}-h_{1d}$ (kpc)\", invert_xaxis = False)\n",
    "#main(h_z_2d_kpc, h_z_2d_kpc-h_z_1d_kpc, \"$h\\_z_{2d}$(kpc)\", \"$h\\_z_{2d}-h\\_z_{1d}$(kpc)\", invert_xaxis = False)"
   ]
  },
  {
   "cell_type": "code",
   "execution_count": 84,
   "id": "4311d57d",
   "metadata": {},
   "outputs": [
    {
     "name": "stdout",
     "output_type": "stream",
     "text": [
      "Estimated coefficients:\n",
      "b_0 = 1.1720924498764782            \n",
      "b_1 = -0.15565709584048487\n",
      "(-0.10099441570881909, 0.48070442480866754)\n"
     ]
    },
    {
     "data": {
      "image/png": "[encoded data removed]",
      "text/plain": [
       "<Figure size 432x288 with 1 Axes>"
      ]
     },
     "metadata": {
      "needs_background": "light"
     },
     "output_type": "display_data"
    }
   ],
   "source": [
    "mag_1d = np.array(mag_1d)\n",
    "mag_2d = np.array(mag_2d)\n",
    "main(mag_2d, mag_2d-mag_1d, \"$m_{2d}$\", \"$m_{2d}-m_{1d}$\", invert_xaxis = True, invert_yaxis = False)"
   ]
  },
  {
   "cell_type": "code",
   "execution_count": 27,
   "id": "50de5695",
   "metadata": {},
   "outputs": [
    {
     "name": "stdout",
     "output_type": "stream",
     "text": [
      "-21.087193284493285\n",
      "0.028788949213343597\n"
     ]
    },
    {
     "data": {
      "image/png": "[encoded data removed]",
      "text/plain": [
       "<Figure size 432x288 with 1 Axes>"
      ]
     },
     "metadata": {
      "needs_background": "light"
     },
     "output_type": "display_data"
    }
   ],
   "source": [
    "M_abs_all = []\n",
    "z_all = []\n",
    "with open('/home/maria/Documents/projects/Stripe82/z_amd_M_all.csv', \"r\", newline=\"\") as f:\n",
    "    reader = csv.reader(f, delimiter=' ')\n",
    "    for row in reader:\n",
    "        z_all.append(float(row[0]))\n",
    "        M_abs_all.append(float(row[1]))\n",
    "z_all = np.array(z_all)\n",
    "M_abs_all = np.array(M_abs_all)\n",
    "\n",
    "import matplotlib.pyplot as plt\n",
    "import matplotlib as mpl\n",
    "from cycler import cycler\n",
    "from matplotlib.ticker import MaxNLocator\n",
    "from scipy.stats import sem\n",
    "plt.rcParams['text.usetex'] = False\n",
    "    \n",
    "fig, ax = plt.subplots()\n",
    "kwargs = dict(alpha=0.5, bins=20)\n",
    "\n",
    "n, bins, patches = ax.hist(M_abs_all, **kwargs, color='indigo',edgecolor='indigo', label = 'z spectral')\n",
    "ax.legend(loc='upper right')\n",
    "ax.set_xlabel('$M_{abs}$', size = 25)\n",
    "ax.set_ylabel('N', size = 25)\n",
    "ax.yaxis.set_major_locator(MaxNLocator(integer=True))\n",
    "\n",
    "plt.xticks(size = 18)\n",
    "plt.yticks(size = 18)\n",
    "plt.show\n",
    "\n",
    "\n",
    "print(np.mean(M_abs_all))\n",
    "print(sem(M_abs_all))\n"
   ]
  }
 ],
 "metadata": {
  "kernelspec": {
   "display_name": "Python 3 (ipykernel)",
   "language": "python",
   "name": "python3"
  },
  "language_info": {
   "codemirror_mode": {
    "name": "ipython",
    "version": 3
   },
   "file_extension": ".py",
   "mimetype": "text/x-python",
   "name": "python",
   "nbconvert_exporter": "python",
   "pygments_lexer": "ipython3",
   "version": "3.8.10"
  }
 },
 "nbformat": 4,
 "nbformat_minor": 5
}
