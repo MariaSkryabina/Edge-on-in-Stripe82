{
 "cells": [
  {
   "cell_type": "code",
   "execution_count": 7,
   "id": "1f7608e0",
   "metadata": {},
   "outputs": [
    {
     "name": "stdout",
     "output_type": "stream",
     "text": [
      "847\n"
     ]
    }
   ],
   "source": [
    "import numpy as np\n",
    "\n",
    "def import_data():\n",
    "\n",
    "    # input_file = np.genfromtxt('/home/maria/Documents/projects/Stripe82/super_final_sample1.txt')\n",
    "    # RA = input_file[:,0]\n",
    "    # DEC = input_file[:,1]\n",
    "    # RA = input_file[:,0]\n",
    "    params = np.genfromtxt(\"/home/maria/Documents/projects/Stripe82/super_final_sample1.txt\")\n",
    "    RA = params[:,0]\n",
    "\n",
    "    return(params)\n",
    "\n",
    "params = import_data()\n",
    "print(len(params))"
   ]
  },
  {
   "cell_type": "code",
   "execution_count": 8,
   "id": "8b660ebd",
   "metadata": {},
   "outputs": [
    {
     "name": "stdout",
     "output_type": "stream",
     "text": [
      "44\n",
      "91\n",
      "-------\n",
      "6\n",
      "19\n",
      "8\n",
      "7\n",
      "3\n",
      "12\n",
      "-------\n",
      "11\n",
      "28\n",
      "13\n",
      "60\n"
     ]
    }
   ],
   "source": [
    "import json\n",
    "from pathlib import Path\n",
    "\n",
    "path = Path(\"/home/maria/Documents/projects/Stripe82/\")\n",
    "json_file = Path(path / \"structure_results.json\")\n",
    "json_data = json.load(open(json_file))\n",
    "tales = json_data[\"tales\"]\n",
    "bridges = json_data[\"bridges\"]\n",
    "rings = json_data[\"rings\"]\n",
    "arcs = json_data[\"arcs\"]\n",
    "debris = json_data[\"debris\"]\n",
    "shells = json_data[\"shells\"]\n",
    "warp = json_data[\"bend\"]\n",
    "polar_balges = json_data[\"polar_balges\"]\n",
    "boxy_balges = json_data[\"boxy_balges\"] \n",
    "lopsidedness = json_data[\"lopsidedness\"]\n",
    "\n",
    "tidal_structures = json_data[\"tidal_structures\"]\n",
    "features = json_data[\"features\"]\n",
    "print(len(tidal_structures))\n",
    "print(len(features))\n",
    "print(\"-------\")\n",
    "print(len(tales))\n",
    "print(len(shells))\n",
    "print(len(bridges))\n",
    "print(len(arcs))\n",
    "print(len(rings))\n",
    "print(len(debris))\n",
    "print(\"-------\")\n",
    "print(len(boxy_balges))\n",
    "print(len(polar_balges))\n",
    "print(len(lopsidedness))\n",
    "print(len(warp))\n",
    "\n"
   ]
  },
  {
   "cell_type": "code",
   "execution_count": 9,
   "id": "80f9b377",
   "metadata": {},
   "outputs": [
    {
     "name": "stdout",
     "output_type": "stream",
     "text": [
      "44\n",
      "[[3], [3], [3], [3], [4], [1], [4], [2], [5], [5], [2, 4], [2], [2], [1], [2], [5], [4], [2, 5], [2], [3], [1], [1], [2], [2], [2], [5], [3], [1], [4], [4], [5], [2], [5], [2], [2], [2], [2, 3], [1], [5], [4], [2, 3, 5], [2, 5], [2], [2, 5]]\n",
      "-------\n",
      "91\n",
      "[[1, 4], [4], [2, 4], [4], [4], [1], [4], [4], [4], [3], [3, 4], [4], [1], [1], [2], [3], [2], [2], [1], [4], [1, 3, 4], [1], [3], [4], [4], [2], [4], [4], [4], [4], [1], [2, 4], [4], [4], [4], [2], [2], [2], [2], [4], [2], [2, 4], [4], [2], [2, 4], [4], [1], [4], [2], [5], [2, 4], [4], [4], [2], [2], [2, 4], [2, 4], [4], [4], [1, 4], [4], [4], [4], [4], [4], [4], [3], [3], [5], [3], [3], [2, 4], [4], [4], [4], [2], [4], [4], [1], [2], [4], [4], [3], [2], [2, 4], [2], [2], [3], [3, 4], [5], [3]]\n"
     ]
    }
   ],
   "source": [
    "features_of_all_galaxies = [[] for j in range(len(params[:,0]))]\n",
    "\n",
    "\n",
    "tidal_structures_list = [tales, shells, bridges, arcs, debris]\n",
    "features_list = [boxy_balges, polar_balges, lopsidedness, warp, rings]\n",
    "key = 0\n",
    "for feature in tidal_structures_list:\n",
    "    key = key+1\n",
    "    for index in feature:\n",
    "        features_of_all_galaxies[index].append(key)\n",
    "\n",
    "tidal_features_list = []\n",
    "for index in tidal_structures:\n",
    "    tidal_features_list.append(features_of_all_galaxies[index])\n",
    "print(len(tidal_features_list))\n",
    "print(tidal_features_list)\n",
    "key = 0\n",
    "feature_list = []\n",
    "features_of_all_galaxies = [[] for j in range(len(params[:,0]))]\n",
    "for feature in features_list:\n",
    "    key = key+1\n",
    "    for index in feature:\n",
    "        features_of_all_galaxies[index].append(key)\n",
    "\n",
    "fit_list = []\n",
    "for index in features:\n",
    "    fit_list.append(features_of_all_galaxies[index])\n",
    "\n",
    "print('-------')    \n",
    "print(len(fit_list))\n",
    "print(fit_list)\n",
    "\n",
    "\n",
    "    \n",
    "\n",
    "        "
   ]
  },
  {
   "cell_type": "code",
   "execution_count": 10,
   "id": "9b7fc476",
   "metadata": {},
   "outputs": [
    {
     "name": "stdout",
     "output_type": "stream",
     "text": [
      "847\n"
     ]
    }
   ],
   "source": [
    "import csv\n",
    "\n",
    "# category = features\n",
    "# csv_file = \"features.csv\"\n",
    "category = tidal_structures\n",
    "csv_file = \"tidal_structures.csv\"\n",
    "path /= Path(\"csv/tables\")\n",
    "\n",
    "f = open(Path(path / csv_file), 'w')\n",
    "writer = csv.writer(f)\n",
    "\n",
    "counter = 0\n",
    "\n",
    "for index in category:\n",
    "    counter += 1\n",
    "    counter = int(counter)\n",
    "\n",
    "    params[index, 0] = '%.3f' % params[index, 0]\n",
    "    params[index, 1] = '%.3f' % params[index, 1]\n",
    "    params[index, 3] = params[index, 3]*0.396\n",
    "    params[index, 3] = '%.1f' % params[index, 3]\n",
    "    params[index, 4] = params[index, 4]*0.396\n",
    "    params[index, 4] = '%.1f' % params[index, 4]\n",
    "    params_new = np.concatenate( ([counter], params[index,:], fit_list[counter-1]))\n",
    "    writer.writerow(params_new)\n",
    "\n",
    "    \n",
    "f.close()\n",
    "print(len(params[:,3]))"
   ]
  },
  {
   "cell_type": "code",
   "execution_count": null,
   "id": "91be51cc",
   "metadata": {},
   "outputs": [],
   "source": []
  },
  {
   "cell_type": "code",
   "execution_count": null,
   "id": "1342d7b5",
   "metadata": {},
   "outputs": [],
   "source": []
  }
 ],
 "metadata": {
  "kernelspec": {
   "display_name": "Python 3 (ipykernel)",
   "language": "python",
   "name": "python3"
  },
  "language_info": {
   "codemirror_mode": {
    "name": "ipython",
    "version": 3
   },
   "file_extension": ".py",
   "mimetype": "text/x-python",
   "name": "python",
   "nbconvert_exporter": "python",
   "pygments_lexer": "ipython3",
   "version": "3.8.10"
  }
 },
 "nbformat": 4,
 "nbformat_minor": 5
}
